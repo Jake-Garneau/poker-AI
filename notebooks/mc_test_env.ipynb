{
 "cells": [
  {
   "cell_type": "code",
   "execution_count": 3,
   "metadata": {},
   "outputs": [
    {
     "name": "stdout",
     "output_type": "stream",
     "text": [
      "[ 153.96     67.7365 -189.987   -17.322    -2.1975  -12.1905]\n",
      "Execution time: 26.495556354522705 seconds\n"
     ]
    }
   ],
   "source": [
    "import sys\n",
    "from multiprocessing import Pool, cpu_count\n",
    "import time\n",
    "\n",
    "sys.path.append('../src')\n",
    "from monte_carlo import run_monte_carlo\n",
    "\n",
    "#the worst hand in poker\n",
    "seat = 3\n",
    "hand = '7d 2h'\n",
    "board = '3s 4c 5h'\n",
    "total_iter = 10000\n",
    "iter_per_hand = 10\n",
    "\n",
    "num_processes = cpu_count()\n",
    "args = [(seat, hand, board, total_iter // num_processes, iter_per_hand) for _ in range(num_processes)]\n",
    "\n",
    "start_time = time.time()\n",
    "with Pool(num_processes) as pool:\n",
    "    results = pool.map(run_monte_carlo, args)\n",
    "\n",
    "final_stacks = sum(results) / num_processes\n",
    "\n",
    "print(final_stacks)\n",
    "end_time = time.time()\n",
    "print(f\"Execution time: {end_time - start_time} seconds\")\n"
   ]
  },
  {
   "cell_type": "code",
   "execution_count": null,
   "metadata": {},
   "outputs": [],
   "source": []
  }
 ],
 "metadata": {
  "kernelspec": {
   "display_name": "myenv",
   "language": "python",
   "name": "python3"
  },
  "language_info": {
   "codemirror_mode": {
    "name": "ipython",
    "version": 3
   },
   "file_extension": ".py",
   "mimetype": "text/x-python",
   "name": "python",
   "nbconvert_exporter": "python",
   "pygments_lexer": "ipython3",
   "version": "3.12.3"
  }
 },
 "nbformat": 4,
 "nbformat_minor": 2
}
